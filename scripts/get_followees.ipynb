{
 "cells": [
  {
   "cell_type": "code",
   "execution_count": null,
   "id": "fa094dfb-a922-4112-a2c4-50cee3680bbb",
   "metadata": {},
   "outputs": [],
   "source": [
    "# ! pip install instagrapi"
   ]
  },
  {
   "cell_type": "code",
   "execution_count": null,
   "id": "d751b03b-ea5a-4656-bc31-473ce8598d11",
   "metadata": {},
   "outputs": [],
   "source": [
    "from instagrapi import Client\n",
    "from instagrapi.types import Usertag\n",
    "\n",
    "# github page:\n",
    "# https://github.com/subzeroid/instagrapi\n",
    "\n",
    "# Initialize the client\n",
    "cl = Client()\n",
    "cl.login(\"username\", \"password\", verification_code = \"2FA code\")"
   ]
  },
  {
   "cell_type": "code",
   "execution_count": null,
   "id": "0ba80362-f29a-49cc-8412-6a5cf2a9a6f0",
   "metadata": {},
   "outputs": [],
   "source": [
    "# here if you look at myfollowers (dict), you will get your followers info\n",
    "# key of myfollowers are the user_id - Integer ID of user\n",
    "# https://subzeroid.github.io/instagrapi/usage-guide/user.html\n",
    "myfollowers = cl.user_followers(cl.user_id)"
   ]
  },
  {
   "cell_type": "code",
   "execution_count": null,
   "id": "5f9d3fe7-9d8b-4f42-9c4f-933c9bf89965",
   "metadata": {},
   "outputs": [],
   "source": [
    "# I took one of the keys of my followers in from above cell to 'key_of_your_follower'\n",
    "myfollowers_followees = cl.user_followers('user_id_of_your_follower', 0)"
   ]
  },
  {
   "cell_type": "code",
   "execution_count": null,
   "id": "afeac030-a41a-456d-b467-59ce44fa12ce",
   "metadata": {},
   "outputs": [],
   "source": [
    "usernames = [myfollowers_followees[k].username for k in myfollowers_followees.keys()]"
   ]
  },
  {
   "cell_type": "code",
   "execution_count": null,
   "id": "8d1c3c87-8636-4b0a-8b07-0fcfee02537d",
   "metadata": {},
   "outputs": [],
   "source": [
    "# kylie jenner\n",
    "print(f\"kylie's username: {cl.user_id_from_username('kyliejenner')}\")"
   ]
  },
  {
   "cell_type": "code",
   "execution_count": null,
   "id": "fd87a148-3f69-45c7-9f5e-32d28c689dd4",
   "metadata": {},
   "outputs": [],
   "source": [
    "# idk how long this is going to take even just getting 10 of her followers. Seems to be taking awhile \n",
    "# kylies_followees = cl.user_followers('12281817', 10)"
   ]
  },
  {
   "cell_type": "code",
   "execution_count": null,
   "id": "7f12f076-0293-41cf-8b4d-c6c84da3371e",
   "metadata": {},
   "outputs": [],
   "source": []
  }
 ],
 "metadata": {
  "kernelspec": {
   "display_name": "Python 3 (ipykernel)",
   "language": "python",
   "name": "python3"
  },
  "language_info": {
   "codemirror_mode": {
    "name": "ipython",
    "version": 3
   },
   "file_extension": ".py",
   "mimetype": "text/x-python",
   "name": "python",
   "nbconvert_exporter": "python",
   "pygments_lexer": "ipython3",
   "version": "3.9.13"
  }
 },
 "nbformat": 4,
 "nbformat_minor": 5
}
